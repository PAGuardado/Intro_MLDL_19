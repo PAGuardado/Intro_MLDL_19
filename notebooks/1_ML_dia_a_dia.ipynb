{
 "cells": [
  {
   "cell_type": "markdown",
   "metadata": {},
   "source": [
    "# Dia 1, primera parte: ML dia a dia"
   ]
  },
  {
   "cell_type": "markdown",
   "metadata": {},
   "source": [
    "<a href=\"https://colab.research.google.com/github/riiaa/Intro_MLDL_19/blob/master/notebooks/1_ML_dia_a_dia.ipynb\" target=\"_parent\"><img src=\"https://colab.research.google.com/assets/colab-badge.svg\" alt=\"Open In Colab\"/></a>"
   ]
  },
  {
   "cell_type": "code",
   "execution_count": null,
   "metadata": {
    "ExecuteTime": {
     "end_time": "2019-08-28T13:58:46.403828Z",
     "start_time": "2019-08-28T13:58:46.390413Z"
    }
   },
   "outputs": [],
   "source": [
    "import os\n",
    "import subprocess\n",
    "import sys\n",
    "\n",
    "GIT_NAME='Intro_MLDL_19'\n",
    "GIT_URL='https://riiaa@github.com/riiaa/{}.git'.format(GIT_NAME)\n",
    "IN_COLAB = 'google.colab' in sys.modules\n",
    "\n",
    "def run_cmd(cmd):\n",
    "    print('Output of \"{}\":'.format(cmd))\n",
    "    print(subprocess.run(cmd,stdout=subprocess.PIPE, shell=True).stdout.decode('utf-8'))\n",
    "        \n",
    "if IN_COLAB:\n",
    "    SRC_DIR='.'\n",
    "    run_cmd('sudo apt-get install git-lfs')\n",
    "    run_cmd('git lfs install')\n",
    "    run_cmd('rm -rf sample_data')\n",
    "    run_cmd('rm -rf {}'.format(GIT_NAME))\n",
    "    run_cmd('git clone --verbose --progress {}'.format(GIT_URL))\n",
    "    run_cmd('mv {}/* . '.format(GIT_NAME))\n",
    "    run_cmd('rm -rf {}'.format(GIT_NAME))\n",
    "else:\n",
    "    SRC_DIR='..'\n",
    "    \n",
    "print('Using colab? {}, using root directory \"{}\"'.format(IN_COLAB,SRC_DIR))"
   ]
  },
  {
   "cell_type": "markdown",
   "metadata": {},
   "source": [
    "## Librerias"
   ]
  },
  {
   "cell_type": "code",
   "execution_count": null,
   "metadata": {
    "ExecuteTime": {
     "end_time": "2019-08-16T20:37:53.420273Z",
     "start_time": "2019-08-16T20:37:53.402458Z"
    }
   },
   "outputs": [],
   "source": [
    "%matplotlib inline\n",
    "%config InlineBackend.figure_format='retina'\n",
    "import matplotlib\n",
    "import matplotlib.pyplot as plt"
   ]
  },
  {
   "cell_type": "code",
   "execution_count": null,
   "metadata": {
    "ExecuteTime": {
     "end_time": "2019-08-16T20:37:53.643080Z",
     "start_time": "2019-08-16T20:37:53.639394Z"
    }
   },
   "outputs": [],
   "source": [
    "import numpy as np\n",
    "import scipy as sc\n",
    "import pandas as pd\n",
    "import sklearn\n",
    "import matplotlib.pyplot as plt\n",
    "import seaborn as sns\n",
    "import os\n",
    "from IPython.display import display\n",
    "import sys"
   ]
  },
  {
   "cell_type": "code",
   "execution_count": null,
   "metadata": {
    "ExecuteTime": {
     "end_time": "2019-08-16T20:38:10.226212Z",
     "start_time": "2019-08-16T20:38:09.916505Z"
    }
   },
   "outputs": [],
   "source": [
    "sys.path.append(os.path.join(SRC_DIR,'code'))\n",
    "import higgs_score"
   ]
  },
  {
   "cell_type": "code",
   "execution_count": null,
   "metadata": {
    "ExecuteTime": {
     "end_time": "2019-08-16T20:38:11.301602Z",
     "start_time": "2019-08-16T20:38:11.293794Z"
    }
   },
   "outputs": [],
   "source": [
    "data_path = os.path.join(SRC_DIR,'data')"
   ]
  },
  {
   "cell_type": "markdown",
   "metadata": {},
   "source": [
    "# Algunas perspectivas sobre ML\n",
    "\n",
    "AI/ML/DL:\n",
    "\n",
    "![](https://github.com/beangoben/deep_learning_escuela_verano_19/blob/master/media/dia2/compare_AI_ML_DL.png?raw=true)\n",
    "\n",
    "De xkcd:\n",
    "![](https://github.com/beangoben/deep_learning_escuela_verano_19/blob/master/media/dia2/xkcd_ml.jpg?raw=true)\n",
    "\n",
    "Mi perspectiva:\n",
    "![](https://github.com/beangoben/deep_learning_escuela_verano_19/blob/master/media/dia2/ml_dl.png?raw=true)\n",
    "\n",
    "\n",
    "* Michael Jordan \"Artificial Intelligence — The Revolution Hasn’t Happened Yet\": https://medium.com/@mijordan3/artificial-intelligence-the-revolution-hasnt-happened-yet-5e1d5812e1e7\n",
    "* Neil D. Lawrence \"Living Together: Mind and Machine Intelligence https://arxiv.org/abs/1705.07996"
   ]
  },
  {
   "cell_type": "markdown",
   "metadata": {},
   "source": [
    "# Un paradigma para ML\n",
    "\n",
    "\n",
    "Machine learning (aprendizaje machin para la banda), trata de crear algoritmos $M$ que puedan \"aprender\", que significa esto?\n",
    "\n",
    "> A computer program is said to learn from experience $E$ with respect to some class of tasks $T$ and performance measure **P**, if its performance at tasks in $T$, as measured by $P$, improves with experience $E$.\n",
    "> > Machine Learning, Thomas M. Mitchell, 1997\t\n",
    "\n",
    "Los ingredientes esenciales son:\n",
    "\n",
    "* $E$ (experiencia): De que vamos a aprender?\n",
    "* $T$ (tareas): Que queremos hacer?\n",
    "* $P$ (rendimiento): Como sabes que estamos mejorando?\n",
    "* $M$ (modelo, algoritmo): Como vamos a crear un sistema para aprender?\n",
    "\n",
    "\n"
   ]
  },
  {
   "cell_type": "markdown",
   "metadata": {},
   "source": [
    "# $E$ y $T$, vamos a conocer los datos!\n",
    "AKA exploratory data analysis (EDA)\n",
    "\n",
    "\n",
    "![](https://github.com/beangoben/deep_learning_escuela_verano_19/blob/master/media/dia2/atlas.png?raw=true)\n",
    "\n",
    "Mas informacion:\n",
    "http://opendata.cern.ch/record/328\n",
    "\n",
    "\n",
    "Usaremos pandas para manipular datos"
   ]
  },
  {
   "cell_type": "code",
   "execution_count": null,
   "metadata": {},
   "outputs": [],
   "source": [
    "df=pd.read_csv(os.path.join(SRC_DIR,'data/HiggsBoson.csv'))\n",
    "print(df.columns)\n",
    "target_col = 'Label'\n",
    "df[target_col] = df[target_col].replace(to_replace=['s','b'],value=[1,0])\n",
    "df = df.drop('EventId',axis=1)\n",
    "print(df.shape)\n",
    "df.head(1)"
   ]
  },
  {
   "cell_type": "code",
   "execution_count": null,
   "metadata": {},
   "outputs": [],
   "source": [
    "features = ['DER_mass_MMC', 'DER_mass_transverse_met_lep']\n",
    "for f in features:\n",
    "    sns.distplot(df[f])\n",
    "    plt.show()"
   ]
  },
  {
   "cell_type": "markdown",
   "metadata": {},
   "source": [
    "\n",
    "## modelos discriminativos vs generativos\n",
    "\n",
    "![](https://github.com/beangoben/deep_learning_escuela_verano_19/blob/master/media/dia2/generative_descriminative.png?raw=true)\n",
    "\n",
    "\n",
    "## Tareas, distribuciones y perdidas (loss functions, $P$)\n",
    "\n",
    "* Regression continua: Gaussiana (RMSE), t-student, gamma, beta, poisson, negative binomial, zero-inflated ..etc. \n",
    "* Regression ordinal: Ordinal (ordered logits,..muchos)\n",
    "* Classificacion binaria: Bernoulli (Binary cross entropy)\n",
    "* Classificacion multiclase: Multinomial (cross entropy)\n",
    "* Classificacion multilabel: Multiples bernoulli (Binary cross entropy)\n",
    "* y muchos mas\n",
    "\n"
   ]
  },
  {
   "cell_type": "markdown",
   "metadata": {},
   "source": [
    "## Visualiza nuestro \"target\" ($y$)"
   ]
  },
  {
   "cell_type": "code",
   "execution_count": null,
   "metadata": {},
   "outputs": [],
   "source": [
    "sns.distplot(df[target_col])"
   ]
  },
  {
   "cell_type": "markdown",
   "metadata": {},
   "source": [
    "## Busca relaciones visuales\n",
    "A \"ojimetro\" usando seaborn: https://seaborn.pydata.org/examples/index.html"
   ]
  },
  {
   "cell_type": "code",
   "execution_count": null,
   "metadata": {},
   "outputs": [],
   "source": [
    "features = ['DER_mass_MMC', 'DER_mass_transverse_met_lep']\n",
    "sns.pairplot(df[features+[target_col]])\n",
    "plt.show()"
   ]
  },
  {
   "cell_type": "markdown",
   "metadata": {},
   "source": [
    "## Pregunta: realmente necesitamos DL?\n",
    "\n",
    "![](https://github.com/beangoben/deep_learning_escuela_verano_19/blob/master/media/dia2/andrewng_dlml_data.png?raw=true)\n",
    "\n",
    "\n",
    "Siempre es importante tener un \"baseline\", modelos base para saber cual es límite inferior en prediccion de tus datos."
   ]
  },
  {
   "cell_type": "markdown",
   "metadata": {},
   "source": [
    "## Definir performance $P$\n",
    "\n",
    "https://scikit-learn.org/stable/modules/model_evaluation.html\n",
    "\n",
    "Hay que tener en cuenta nuestra metricas para optimizar (tipicamente loss functions) y las metrics que realmente nos interesan.\n",
    "\n",
    "### En nuestro caso nos interesa\n",
    "\n",
    "https://higgsml.lal.in2p3.fr/files/2014/04/documentation_v1.8.pdf\n",
    "\n",
    "Approximate median significance (AMS), es el numero estimado de sigmas que tu modelo puede predecir. Si llegas a **6** ya descubriste el boson de higgs!\n",
    "\n",
    "![](https://github.com/beangoben/deep_learning_escuela_verano_19/blob/master/media/dia2/sigma_gaussian.png?raw=true)\n",
    "\n"
   ]
  },
  {
   "cell_type": "code",
   "execution_count": null,
   "metadata": {},
   "outputs": [],
   "source": [
    "import higgs_score"
   ]
  },
  {
   "cell_type": "markdown",
   "metadata": {},
   "source": [
    "### Ojo!: Definir train/dev/test\n",
    "\n",
    "* https://scikit-learn.org/stable/modules/classes.html#module-sklearn.model_selection\n",
    "\n",
    "* http://scikit.ml/stratification.html\n",
    "\n",
    "\n",
    "![](https://github.com/beangoben/deep_learning_escuela_verano_19/blob/master/media/dia2/data_splits.png?raw=true)\n",
    "\n",
    "### design matrix ($X$ y $y$)"
   ]
  },
  {
   "cell_type": "code",
   "execution_count": null,
   "metadata": {},
   "outputs": [],
   "source": [
    "features = ['DER_mass_MMC', 'DER_mass_transverse_met_lep',\n",
    "       'DER_mass_vis', 'DER_pt_h', 'DER_deltaeta_jet_jet', 'DER_mass_jet_jet',\n",
    "       'DER_prodeta_jet_jet', 'DER_deltar_tau_lep', 'DER_pt_tot', 'DER_sum_pt',\n",
    "       'DER_pt_ratio_lep_tau', 'DER_met_phi_centrality',\n",
    "       'DER_lep_eta_centrality', 'PRI_tau_pt', 'PRI_tau_eta', 'PRI_tau_phi',\n",
    "       'PRI_lep_pt', 'PRI_lep_eta', 'PRI_lep_phi', 'PRI_met', 'PRI_met_phi',\n",
    "       'PRI_met_sumet', 'PRI_jet_num', 'PRI_jet_leading_pt',\n",
    "       'PRI_jet_leading_eta', 'PRI_jet_leading_phi', 'PRI_jet_subleading_pt',\n",
    "       'PRI_jet_subleading_eta', 'PRI_jet_subleading_phi', 'PRI_jet_all_pt']\n",
    "\n",
    "weights = df['Weight'].values\n",
    "Y = df[target_col].values\n",
    "X = df[features].values"
   ]
  },
  {
   "cell_type": "code",
   "execution_count": null,
   "metadata": {},
   "outputs": [],
   "source": [
    "from sklearn.model_selection import train_test_split\n",
    "train_size = 0.3\n",
    "X_train,X_test,Y_train,Y_test,w_train,w_test = train_test_split(X,Y,weights,train_size=train_size)\n",
    "print(X_train.shape,Y_train.shape,w_train.shape)\n",
    "print(X_test.shape,Y_test.shape,w_test.shape)"
   ]
  },
  {
   "cell_type": "markdown",
   "metadata": {},
   "source": [
    "## ML: modelos lineales\n",
    "\n",
    "#### Regression logistica\n",
    "\n",
    "**Modelo:** $M_{W,b}(x) = g(W x + b) = g(\\sum \\theta_i x_i +b)$ con $g(z)=sigmoid(z)=\\frac{1}{1+e^{-z}}$\n",
    "\n",
    "Nuestro model ($f(x)$) tiene la forma\n",
    "\n",
    "$$ y \\approx f(x) = g(W\\cdot x +b) $$\n",
    "\n",
    "donde $g(z)=sigmoid(z)=\\frac{1}{1+e^{-z}}$, y para una coleccion de pares de inputs y targets $\\{(x_i,y_i)\\}$, queremos minimizar:\n",
    "\n",
    "$$ \\sum_i^n \\| y_i - f(x_i) \\|^2$$\n",
    "\n"
   ]
  },
  {
   "cell_type": "code",
   "execution_count": null,
   "metadata": {},
   "outputs": [],
   "source": [
    "from sklearn.linear_model import LogisticRegression\n",
    "model = LogisticRegression(verbose=1)\n",
    "model.fit(X_train,Y_train)"
   ]
  },
  {
   "cell_type": "markdown",
   "metadata": {},
   "source": [
    "## Predecir con el modelo"
   ]
  },
  {
   "cell_type": "code",
   "execution_count": null,
   "metadata": {},
   "outputs": [],
   "source": [
    "#Y_pred_train = model.predict(X_train) # predice la clase\n",
    "#Y_pred_test = model.predict(X_test) # predice la clase\n",
    "p_tol = 0.5\n",
    "Y_pred_train = model.predict_proba(X_train)[:,1] > p_tol\n",
    "Y_pred_test = model.predict_proba(X_test)[:,1] > p_tol\n",
    "higgs_score.evaluate(Y_train, Y_pred_train, w_train, Y_test, Y_pred_test, w_test)"
   ]
  },
  {
   "cell_type": "markdown",
   "metadata": {},
   "source": [
    "## Interpretar variables"
   ]
  },
  {
   "cell_type": "code",
   "execution_count": null,
   "metadata": {},
   "outputs": [],
   "source": [
    "print('a = {}'.format(model.coef_))\n",
    "print('b = {}'.format(model.intercept_))\n",
    "sns.distplot(model.coef_,kde=False)\n",
    "plt.show()"
   ]
  },
  {
   "cell_type": "code",
   "execution_count": null,
   "metadata": {},
   "outputs": [],
   "source": [
    "sns.barplot(x=features,y=model.coef_.ravel())\n",
    "plt.xticks(rotation=90)\n",
    "plt.show()"
   ]
  },
  {
   "cell_type": "markdown",
   "metadata": {},
   "source": [
    "## Ojo: Preprocessing, standard scaling\n",
    "https://scikit-learn.org/stable/modules/classes.html#module-sklearn.preprocessing"
   ]
  },
  {
   "cell_type": "code",
   "execution_count": null,
   "metadata": {},
   "outputs": [],
   "source": [
    "from sklearn.preprocessing import StandardScaler\n",
    "\n",
    "scaler = StandardScaler()\n",
    "old_x = df['DER_mass_transverse_met_lep'].values.reshape(-1,1)\n",
    "scaler.fit(old_x)\n",
    "new_x = scaler.transform(old_x)\n",
    "sns.distplot(old_x)\n",
    "plt.show()\n",
    "sns.distplot(new_x)\n",
    "plt.show()"
   ]
  },
  {
   "cell_type": "markdown",
   "metadata": {},
   "source": [
    "### Curva roc"
   ]
  },
  {
   "cell_type": "code",
   "execution_count": null,
   "metadata": {},
   "outputs": [],
   "source": [
    "from sklearn.metrics import roc_curve, auc\n",
    "\n",
    "fpr, tpr, thresholds = roc_curve(Y_test, Y_pred_test)\n",
    "roc_auc = auc(fpr, tpr)\n",
    "plt.plot(fpr, tpr, lw=1, alpha=0.3, label=str(model.__class__.__name__))\n",
    "plt.plot(np.linspace(0,1,100),np.linspace(0,1,100), lw=2, alpha=0.3, label='Suerte')\n",
    "plt.legend(loc='lower right')\n",
    "plt.xlim([0,1])\n",
    "plt.ylim([0,1])\n",
    "plt.xlabel('Falsos Positivos')\n",
    "plt.ylabel('Falsos Negativos')\n",
    "plt.tight_layout()\n",
    "plt.show()"
   ]
  },
  {
   "cell_type": "markdown",
   "metadata": {},
   "source": [
    "## Random Forest\n",
    "\n",
    "![](https://github.com/beangoben/deep_learning_escuela_verano_19/blob/master/media/dia2/rf.jpg?raw=true)"
   ]
  },
  {
   "cell_type": "code",
   "execution_count": null,
   "metadata": {},
   "outputs": [],
   "source": [
    "from sklearn.ensemble import RandomForestClassifier\n",
    "model = RandomForestClassifier()\n",
    "model.fit(X_train,Y_train)"
   ]
  },
  {
   "cell_type": "code",
   "execution_count": null,
   "metadata": {},
   "outputs": [],
   "source": [
    "#Y_pred_train = model.predict(X_train) # predice la clase\n",
    "#Y_pred_test = model.predict(X_test) # predice la clase\n",
    "p_tol = 0.5\n",
    "Y_pred_train = model.predict_proba(X_train)[:,1] > p_tol\n",
    "Y_pred_test = model.predict_proba(X_test)[:,1] > p_tol\n",
    "higgs_score.evaluate(Y_train, Y_pred_train, w_train, Y_test, Y_pred_test, w_test)"
   ]
  },
  {
   "cell_type": "markdown",
   "metadata": {},
   "source": [
    "### Feature importance"
   ]
  },
  {
   "cell_type": "code",
   "execution_count": null,
   "metadata": {},
   "outputs": [],
   "source": [
    "sns.barplot(x=features,y=model.feature_importances_)\n",
    "plt.xticks(rotation=90)\n",
    "plt.show()"
   ]
  },
  {
   "cell_type": "markdown",
   "metadata": {},
   "source": [
    "## Actividad: escogete un model de ML\n",
    "\n",
    "https://scikit-learn.org/stable/supervised_learning.html\n",
    "\n",
    "Cual es el mejor modelo que puedes encontrar?"
   ]
  },
  {
   "cell_type": "code",
   "execution_count": null,
   "metadata": {},
   "outputs": [],
   "source": []
  }
 ],
 "metadata": {
  "kernelspec": {
   "display_name": "Python 3",
   "language": "python",
   "name": "python3"
  },
  "language_info": {
   "codemirror_mode": {
    "name": "ipython",
    "version": 3
   },
   "file_extension": ".py",
   "mimetype": "text/x-python",
   "name": "python",
   "nbconvert_exporter": "python",
   "pygments_lexer": "ipython3",
   "version": "3.7.3"
  },
  "toc": {
   "base_numbering": 1,
   "nav_menu": {},
   "number_sections": true,
   "sideBar": true,
   "skip_h1_title": false,
   "title_cell": "Table of Contents",
   "title_sidebar": "Contents",
   "toc_cell": false,
   "toc_position": {},
   "toc_section_display": true,
   "toc_window_display": false
  }
 },
 "nbformat": 4,
 "nbformat_minor": 2
}
